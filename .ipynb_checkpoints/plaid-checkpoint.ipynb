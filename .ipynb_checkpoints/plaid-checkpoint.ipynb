{
 "cells": [
  {
   "cell_type": "code",
   "execution_count": 7,
   "metadata": {
    "collapsed": true
   },
   "outputs": [],
   "source": [
    "import datetime\n",
    "import plaid\n",
    "from flask import request\n",
    "from flask import Flask\n",
    "import json\n",
    "import pandas as pd"
   ]
  },
  {
   "cell_type": "code",
   "execution_count": 8,
   "metadata": {
    "collapsed": true
   },
   "outputs": [],
   "source": [
    "import sys\n",
    "sys.path.insert(1, './private')\n",
    "import keys as keys"
   ]
  },
  {
   "cell_type": "code",
   "execution_count": null,
   "metadata": {
    "collapsed": true
   },
   "outputs": [],
   "source": []
  },
  {
   "cell_type": "code",
   "execution_count": 9,
   "metadata": {},
   "outputs": [
    {
     "data": {
      "text/plain": [
       "'2019-08-14'"
      ]
     },
     "execution_count": 9,
     "metadata": {},
     "output_type": "execute_result"
    }
   ],
   "source": [
    "'{:%Y-%m-%d}'.format(datetime.datetime.now())"
   ]
  },
  {
   "cell_type": "code",
   "execution_count": 10,
   "metadata": {},
   "outputs": [
    {
     "name": "stderr",
     "output_type": "stream",
     "text": [
      "/Users/kzahir/anaconda3/lib/python3.6/site-packages/plaid/client.py:66: UserWarning: \n",
      "                Development is not intended for production usage.\n",
      "                Swap out url for https://production.plaid.com\n",
      "                via Client.config before switching to production\n",
      "            \n",
      "  ''')\n"
     ]
    }
   ],
   "source": [
    "client = plaid.Client(client_id = keys.PLAID_CLIENT_ID, secret=keys.PLAID_SECRET,\n",
    "                      public_key=keys.PLAID_PUBLIC_KEY, environment=keys.PLAID_ENV, api_version='2019-05-29')\n"
   ]
  },
  {
   "cell_type": "code",
   "execution_count": 12,
   "metadata": {
    "collapsed": true
   },
   "outputs": [],
   "source": [
    "app = Flask(__name__)\n",
    "\n",
    "@app.route('/get_access_token', methods=['POST'])\n",
    "def get_access_token():\n",
    "  global access_token\n",
    "  public_token = request.form['public_token']\n",
    "  try:\n",
    "    exchange_response = client.Item.public_token.exchange(public_token)\n",
    "  except plaid.errors.PlaidError as e:\n",
    "    return jsonify(format_error(e))\n",
    "\n",
    "  pretty_print_response(exchange_response)\n",
    "  access_token = exchange_response['access_token']\n",
    "  return jsonify(exchange_response)\n",
    "\n",
    "start_date = '{:%Y-%m-%d}'.format(datetime.datetime.now() + datetime.timedelta(-30))\n",
    "end_date = '{:%Y-%m-%d}'.format(datetime.datetime.now())\n",
    "transactions_response = client.Transactions.get(keys.access_token,\n",
    "                                   start_date=start_date,\n",
    "                                   end_date=end_date, count=500)\n",
    "accountList= pd.DataFrame(columns=['account', 'subtype', 'type', 'balanceA', 'balanceC' , 'accountId'])\n",
    "for account in transactions_response['accounts']:\n",
    "    name = account['name']\n",
    "    subtype = account['subtype']\n",
    "    type = account['type']\n",
    "    balanceA= account['balances']['available']\n",
    "    balanceC= account['balances']['current']\n",
    "    accountId= account['account_id']\n",
    "    \n",
    "    b = pd.Series({'account':name,'subtype':subtype,'type':type, 'balanceA':balanceA, 'balanceC':balanceC, 'accountId':accountId})\n",
    "    accountList = accountList.append(b, ignore_index=True )\n",
    "\n",
    "len(transactions_response['accounts'])\n",
    "# print(accountList)\n",
    "\n",
    "\n",
    "\n",
    "def accountName(name):\n",
    "    result = None\n",
    "#     result = 'debit' if name=='1XxA8g36Dks69YKZVM3Yfbgpprwo7ECmVv9zw' else None\n",
    "    if result == None:\n",
    "        result= accountList[accountList['accountId']==name]['account'].values[0]\n",
    "    if (result == \"Visa Cad\"):\n",
    "        result = \"visa\"\n",
    "    elif (result == 'Personal Line Of Credit'):\n",
    "        result = \"line\"\n",
    "    elif (result==\"Eadvantage Savings Account\"):\n",
    "        result = \"savings\"\n",
    "    elif (result==\"Tfsa Tax Advantage Savings Account\"):\n",
    "        result= \"TFSA\"\n",
    "    elif (result== \"Personal Chequing Account USD\"):\n",
    "        result = \"USD\"\n",
    "    elif (result==\"CIBC Smart Account\"):\n",
    "        result = \"debit\"\n",
    "        \n",
    "    return result\n",
    "# print(accountName('qb9a5qN6VKsXbjd5qYejHa6rrnoAvLhJjYgmM'))\n",
    "\n",
    "\n"
   ]
  },
  {
   "cell_type": "code",
   "execution_count": null,
   "metadata": {
    "collapsed": true
   },
   "outputs": [],
   "source": []
  },
  {
   "cell_type": "code",
   "execution_count": null,
   "metadata": {
    "collapsed": true
   },
   "outputs": [],
   "source": []
  },
  {
   "cell_type": "code",
   "execution_count": 13,
   "metadata": {
    "collapsed": true
   },
   "outputs": [],
   "source": [
    "def getTrans(start_date, end_date):\n",
    "    response = client.Transactions.get(keys.access_token,\n",
    "                                       start_date=start_date,\n",
    "                                       end_date=end_date, count=500)\n",
    "    print(\"# Transactions found\" , response['total_transactions'])\n",
    "    transactions = response['transactions']\n",
    "\n",
    "    # Manipulate the count and offset parameters to paginate\n",
    "    # transactions and retrieve all available data\n",
    "    while len(transactions) < response['total_transactions']:\n",
    "        response = client.Transactions.get(keysaccess_token,\n",
    "                                           start_date='2018-01-01',\n",
    "                                           end_date='2019-02-01',\n",
    "                                           offset=len(transactions)\n",
    "                                          )\n",
    "        transactions.extend(response['transactions'])\n",
    "    tx= pd.DataFrame(columns=['name', 'date', 'balance'])\n",
    "    \n",
    "    for account in transactions:\n",
    "        name = account['name']\n",
    "        date = account['date']\n",
    "        amount = account['amount']\n",
    "        accountId= accountName(account['account_id'])\n",
    "\n",
    "        #print(name)\n",
    "        #print(date)\n",
    "        #print(amount)\n",
    "        #print(account['category'])\n",
    "        #print(account['category_id'])\n",
    "        #print('\\n------------------ \\n')\n",
    "\n",
    "        b = pd.Series({'name':name,'date':date,'balance':amount, 'accountId':accountId})\n",
    "        tx = tx.append(b, ignore_index=True )\n",
    "    return tx"
   ]
  },
  {
   "cell_type": "code",
   "execution_count": 19,
   "metadata": {},
   "outputs": [
    {
     "name": "stdout",
     "output_type": "stream",
     "text": [
      "# Transactions found 203\n"
     ]
    }
   ],
   "source": [
    "tx = getTrans('2019-01-01', '2019-02-28')"
   ]
  },
  {
   "cell_type": "code",
   "execution_count": 20,
   "metadata": {},
   "outputs": [
    {
     "data": {
      "text/plain": [
       "array(['USD', 'Visa', 'Debit'], dtype=object)"
      ]
     },
     "execution_count": 20,
     "metadata": {},
     "output_type": "execute_result"
    }
   ],
   "source": [
    "tx['accountId'].unique()\n"
   ]
  },
  {
   "cell_type": "code",
   "execution_count": null,
   "metadata": {
    "collapsed": true
   },
   "outputs": [],
   "source": []
  },
  {
   "cell_type": "code",
   "execution_count": null,
   "metadata": {
    "collapsed": true
   },
   "outputs": [],
   "source": []
  },
  {
   "cell_type": "code",
   "execution_count": null,
   "metadata": {
    "collapsed": true
   },
   "outputs": [],
   "source": []
  },
  {
   "cell_type": "code",
   "execution_count": null,
   "metadata": {
    "collapsed": true
   },
   "outputs": [],
   "source": []
  },
  {
   "cell_type": "code",
   "execution_count": null,
   "metadata": {
    "collapsed": true
   },
   "outputs": [],
   "source": []
  },
  {
   "cell_type": "code",
   "execution_count": null,
   "metadata": {
    "collapsed": true
   },
   "outputs": [],
   "source": []
  }
 ],
 "metadata": {
  "kernelspec": {
   "display_name": "Python 3",
   "language": "python",
   "name": "python3"
  },
  "language_info": {
   "codemirror_mode": {
    "name": "ipython",
    "version": 3
   },
   "file_extension": ".py",
   "mimetype": "text/x-python",
   "name": "python",
   "nbconvert_exporter": "python",
   "pygments_lexer": "ipython3",
   "version": "3.6.3"
  }
 },
 "nbformat": 4,
 "nbformat_minor": 2
}
